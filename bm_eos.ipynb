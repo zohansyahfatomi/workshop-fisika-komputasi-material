{
  "nbformat": 4,
  "nbformat_minor": 0,
  "metadata": {
    "colab": {
      "name": "bm-eos.ipynb",
      "provenance": [],
      "collapsed_sections": []
    },
    "kernelspec": {
      "name": "python3",
      "display_name": "Python 3"
    },
    "language_info": {
      "name": "python"
    }
  },
  "cells": [
    {
      "cell_type": "code",
      "metadata": {
        "id": "ZKuEGuK-8l7N"
      },
      "source": [
        "# -*- coding: utf-8 -*-\n",
        "\n",
        "from pylab import *\n",
        "import scipy.optimize \n",
        "\n",
        "#Load your volume and energy data from inpVE.txt\n",
        "V=np.loadtxt(\"/content/volume_energy.data\")[:, 0]\n",
        "E=np.loadtxt(\"/content/volume_energy.data\")[:, 1]\n",
        "\n",
        "# second order polynomial fitting using pylab and get the coefficients (a,b c)\n",
        "p=polyfit(V,E,2)\n",
        "a=p[0]\n",
        "b=p[1]\n",
        "c=p[2]\n",
        "\n",
        "V0 = -b/(2*a) # dE/dV = 0 (V0 is the minimum energy volume) -> 2*a*V0 + b = 0 -> V0=-b/2a\n",
        "E0 = a*V0**2+b*V0+c\n",
        "B0 = 2*a*V0 # B0 = V0*(d**2E/dV**2)\n",
        "dB0 = 4\n",
        "\n",
        "x0 = [B0, dB0, V0, E0] #initial guess obtained from the second order polynomial fitting\n",
        "\n",
        "#define the Birch-Murnaghan Equation of States function\n",
        "def func_birchmur(VOL, x):\n",
        "    \n",
        "    vv= (x[2]/VOL)**(1.0/3.0)\n",
        "    E =  x[3] + 9.0/16.0*x[2]*x[0] *(vv**2-1.0)**2 * (6.0 + x[1]*(vv**2-1.0) - 4.0*vv**2)\n",
        "    \n",
        "    return E\n",
        "\n",
        "sigma = lambda x: sum((E - func_birchmur(V,x))**2) #the chi squared function\n",
        "x_final = scipy.optimize.fmin(sigma, x0) #minimized the chi squared function and return the minimum values of constants [B0, dB0, V0, E0]\n",
        "print (x_final)\n",
        "\n",
        "#plotting the polymonial and BMEOS curve and save the curve as poly-eos.png\n",
        "x_graph = np.linspace(min(V),max(V),1000)\n",
        "plot(x_graph, a*x_graph**2 + b*x_graph + c,'--',label='polinomial fitting')\n",
        "plot(x_graph, func_birchmur(x_graph, x_final), label='EOS fitting')\n",
        "plot(V, E, 'bo')\n",
        "legend(loc='best')\n",
        "savefig('poly-eos.png')\n",
        "show()\n",
        "\n",
        "#writing the \"B0_dB0_V0_E0\" text file containing the minimum value of constants\n",
        "f= open(\"B0_dB0_V0_E0.txt\",\"w+\")\n",
        "f.write('%.10f  %.10f  %.10f  %.10f \\n' %(x_final[0],x_final[1],x_final[2],x_final[3]))\n",
        "f.close()\n"
      ],
      "execution_count": null,
      "outputs": []
    },
    {
      "cell_type": "code",
      "source": [
        "import numpy as np\n",
        "x = 1.10478648e+03\n",
        "y = np.cbrt(x) # cubic root\n",
        "z = y * 0.529177 / 0.99999960165\n",
        "print(\"lattice constant of Si: \", y, \"Bohr\")\n",
        "print(\"lattice constant of Si: \", z, \"Angstrom\")\n",
        "print(\"Reference : 5.431020511 Angstrom\")"
      ],
      "metadata": {
        "id": "UblId4dStZEN"
      },
      "execution_count": null,
      "outputs": []
    },
    {
      "cell_type": "code",
      "source": [
        "10.337752181087756/2"
      ],
      "metadata": {
        "id": "RQZd150nB8Sj"
      },
      "execution_count": null,
      "outputs": []
    },
    {
      "cell_type": "code",
      "source": [
        ""
      ],
      "metadata": {
        "id": "CNWITx7p5iGX"
      },
      "execution_count": null,
      "outputs": []
    }
  ]
}